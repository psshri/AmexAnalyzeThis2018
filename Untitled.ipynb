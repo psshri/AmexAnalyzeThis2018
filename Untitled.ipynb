{
 "cells": [
  {
   "cell_type": "code",
   "execution_count": 2,
   "metadata": {},
   "outputs": [],
   "source": [
    "import pandas as pd\n",
    "import numpy as np\n",
    "%matplotlib inline\n",
    "import seaborn as sns\n",
    "import matplotlib.pyplot as plt\n",
    "from sklearn.preprocessing import Imputer"
   ]
  },
  {
   "cell_type": "code",
   "execution_count": 3,
   "metadata": {},
   "outputs": [
    {
     "name": "stderr",
     "output_type": "stream",
     "text": [
      "C:\\Users\\LENOVO\\Anaconda2\\lib\\site-packages\\IPython\\core\\interactiveshell.py:2718: DtypeWarning: Columns (19) have mixed types. Specify dtype option on import or set low_memory=False.\n",
      "  interactivity=interactivity, compiler=compiler, result=result)\n"
     ]
    }
   ],
   "source": [
    "data = pd.read_csv(\"C:/Users/LENOVO/Desktop/AnalyzeThis/Training_dataset_original.csv\")"
   ]
  },
  {
   "cell_type": "code",
   "execution_count": 4,
   "metadata": {},
   "outputs": [
    {
     "data": {
      "text/plain": [
       "(80000, 49)"
      ]
     },
     "execution_count": 4,
     "metadata": {},
     "output_type": "execute_result"
    }
   ],
   "source": [
    "data.shape"
   ]
  },
  {
   "cell_type": "code",
   "execution_count": 5,
   "metadata": {},
   "outputs": [
    {
     "data": {
      "text/html": [
       "<div>\n",
       "<style scoped>\n",
       "    .dataframe tbody tr th:only-of-type {\n",
       "        vertical-align: middle;\n",
       "    }\n",
       "\n",
       "    .dataframe tbody tr th {\n",
       "        vertical-align: top;\n",
       "    }\n",
       "\n",
       "    .dataframe thead th {\n",
       "        text-align: right;\n",
       "    }\n",
       "</style>\n",
       "<table border=\"1\" class=\"dataframe\">\n",
       "  <thead>\n",
       "    <tr style=\"text-align: right;\">\n",
       "      <th></th>\n",
       "      <th>application_key</th>\n",
       "      <th>mvar2</th>\n",
       "      <th>mvar3</th>\n",
       "      <th>mvar4</th>\n",
       "      <th>mvar5</th>\n",
       "      <th>mvar14</th>\n",
       "      <th>mvar21</th>\n",
       "      <th>mvar22</th>\n",
       "      <th>mvar23</th>\n",
       "      <th>mvar24</th>\n",
       "      <th>mvar33</th>\n",
       "      <th>mvar44</th>\n",
       "      <th>default_ind</th>\n",
       "    </tr>\n",
       "  </thead>\n",
       "  <tbody>\n",
       "    <tr>\n",
       "      <th>count</th>\n",
       "      <td>80000.000000</td>\n",
       "      <td>74447.000000</td>\n",
       "      <td>79499.000000</td>\n",
       "      <td>79499.000000</td>\n",
       "      <td>79499.00000</td>\n",
       "      <td>8.000000e+04</td>\n",
       "      <td>57439.000000</td>\n",
       "      <td>50876.000000</td>\n",
       "      <td>39752.000000</td>\n",
       "      <td>61098.000000</td>\n",
       "      <td>78249.000000</td>\n",
       "      <td>72255.000000</td>\n",
       "      <td>80000.000000</td>\n",
       "    </tr>\n",
       "    <tr>\n",
       "      <th>mean</th>\n",
       "      <td>270031.500000</td>\n",
       "      <td>1.105629</td>\n",
       "      <td>5.280955</td>\n",
       "      <td>0.474516</td>\n",
       "      <td>1.12472</td>\n",
       "      <td>1.960918e+05</td>\n",
       "      <td>57.790097</td>\n",
       "      <td>4423.856509</td>\n",
       "      <td>4305.929828</td>\n",
       "      <td>69.981834</td>\n",
       "      <td>6.996557</td>\n",
       "      <td>0.705285</td>\n",
       "      <td>0.246213</td>\n",
       "    </tr>\n",
       "    <tr>\n",
       "      <th>std</th>\n",
       "      <td>23094.155105</td>\n",
       "      <td>1.645299</td>\n",
       "      <td>10.815463</td>\n",
       "      <td>1.796261</td>\n",
       "      <td>5.99545</td>\n",
       "      <td>7.888377e+06</td>\n",
       "      <td>35.577165</td>\n",
       "      <td>3782.048321</td>\n",
       "      <td>3864.873106</td>\n",
       "      <td>300.080442</td>\n",
       "      <td>7.650139</td>\n",
       "      <td>0.245879</td>\n",
       "      <td>0.430806</td>\n",
       "    </tr>\n",
       "    <tr>\n",
       "      <th>min</th>\n",
       "      <td>230032.000000</td>\n",
       "      <td>0.000000</td>\n",
       "      <td>0.000000</td>\n",
       "      <td>0.000000</td>\n",
       "      <td>0.00000</td>\n",
       "      <td>0.000000e+00</td>\n",
       "      <td>0.170000</td>\n",
       "      <td>0.000000</td>\n",
       "      <td>0.000000</td>\n",
       "      <td>0.000000</td>\n",
       "      <td>0.083300</td>\n",
       "      <td>0.060660</td>\n",
       "      <td>0.000000</td>\n",
       "    </tr>\n",
       "    <tr>\n",
       "      <th>25%</th>\n",
       "      <td>250031.750000</td>\n",
       "      <td>0.140100</td>\n",
       "      <td>0.000000</td>\n",
       "      <td>0.000000</td>\n",
       "      <td>0.00000</td>\n",
       "      <td>4.261300e+04</td>\n",
       "      <td>26.930000</td>\n",
       "      <td>726.715000</td>\n",
       "      <td>541.157500</td>\n",
       "      <td>9.892500</td>\n",
       "      <td>1.166700</td>\n",
       "      <td>0.515220</td>\n",
       "      <td>0.000000</td>\n",
       "    </tr>\n",
       "    <tr>\n",
       "      <th>50%</th>\n",
       "      <td>270031.500000</td>\n",
       "      <td>0.538900</td>\n",
       "      <td>0.300000</td>\n",
       "      <td>0.000000</td>\n",
       "      <td>0.00000</td>\n",
       "      <td>7.234300e+04</td>\n",
       "      <td>59.690000</td>\n",
       "      <td>3974.425000</td>\n",
       "      <td>3700.000000</td>\n",
       "      <td>40.440000</td>\n",
       "      <td>3.916700</td>\n",
       "      <td>0.737030</td>\n",
       "      <td>0.000000</td>\n",
       "    </tr>\n",
       "    <tr>\n",
       "      <th>75%</th>\n",
       "      <td>290031.250000</td>\n",
       "      <td>1.445050</td>\n",
       "      <td>6.447000</td>\n",
       "      <td>0.000000</td>\n",
       "      <td>0.00000</td>\n",
       "      <td>1.238750e+05</td>\n",
       "      <td>86.620000</td>\n",
       "      <td>7579.297500</td>\n",
       "      <td>7520.950000</td>\n",
       "      <td>76.540000</td>\n",
       "      <td>10.666700</td>\n",
       "      <td>0.943475</td>\n",
       "      <td>0.000000</td>\n",
       "    </tr>\n",
       "    <tr>\n",
       "      <th>max</th>\n",
       "      <td>310031.000000</td>\n",
       "      <td>44.630100</td>\n",
       "      <td>286.858000</td>\n",
       "      <td>114.696000</td>\n",
       "      <td>226.52700</td>\n",
       "      <td>9.910000e+08</td>\n",
       "      <td>1305.250000</td>\n",
       "      <td>64800.000000</td>\n",
       "      <td>124533.330000</td>\n",
       "      <td>27867.400000</td>\n",
       "      <td>76.000000</td>\n",
       "      <td>1.000000</td>\n",
       "      <td>1.000000</td>\n",
       "    </tr>\n",
       "  </tbody>\n",
       "</table>\n",
       "</div>"
      ],
      "text/plain": [
       "       application_key         mvar2         mvar3         mvar4        mvar5  \\\n",
       "count     80000.000000  74447.000000  79499.000000  79499.000000  79499.00000   \n",
       "mean     270031.500000      1.105629      5.280955      0.474516      1.12472   \n",
       "std       23094.155105      1.645299     10.815463      1.796261      5.99545   \n",
       "min      230032.000000      0.000000      0.000000      0.000000      0.00000   \n",
       "25%      250031.750000      0.140100      0.000000      0.000000      0.00000   \n",
       "50%      270031.500000      0.538900      0.300000      0.000000      0.00000   \n",
       "75%      290031.250000      1.445050      6.447000      0.000000      0.00000   \n",
       "max      310031.000000     44.630100    286.858000    114.696000    226.52700   \n",
       "\n",
       "             mvar14        mvar21        mvar22         mvar23        mvar24  \\\n",
       "count  8.000000e+04  57439.000000  50876.000000   39752.000000  61098.000000   \n",
       "mean   1.960918e+05     57.790097   4423.856509    4305.929828     69.981834   \n",
       "std    7.888377e+06     35.577165   3782.048321    3864.873106    300.080442   \n",
       "min    0.000000e+00      0.170000      0.000000       0.000000      0.000000   \n",
       "25%    4.261300e+04     26.930000    726.715000     541.157500      9.892500   \n",
       "50%    7.234300e+04     59.690000   3974.425000    3700.000000     40.440000   \n",
       "75%    1.238750e+05     86.620000   7579.297500    7520.950000     76.540000   \n",
       "max    9.910000e+08   1305.250000  64800.000000  124533.330000  27867.400000   \n",
       "\n",
       "             mvar33        mvar44   default_ind  \n",
       "count  78249.000000  72255.000000  80000.000000  \n",
       "mean       6.996557      0.705285      0.246213  \n",
       "std        7.650139      0.245879      0.430806  \n",
       "min        0.083300      0.060660      0.000000  \n",
       "25%        1.166700      0.515220      0.000000  \n",
       "50%        3.916700      0.737030      0.000000  \n",
       "75%       10.666700      0.943475      0.000000  \n",
       "max       76.000000      1.000000      1.000000  "
      ]
     },
     "execution_count": 5,
     "metadata": {},
     "output_type": "execute_result"
    }
   ],
   "source": [
    "data.describe()"
   ]
  },
  {
   "cell_type": "code",
   "execution_count": 6,
   "metadata": {},
   "outputs": [
    {
     "data": {
      "text/html": [
       "<div>\n",
       "<style scoped>\n",
       "    .dataframe tbody tr th:only-of-type {\n",
       "        vertical-align: middle;\n",
       "    }\n",
       "\n",
       "    .dataframe tbody tr th {\n",
       "        vertical-align: top;\n",
       "    }\n",
       "\n",
       "    .dataframe thead th {\n",
       "        text-align: right;\n",
       "    }\n",
       "</style>\n",
       "<table border=\"1\" class=\"dataframe\">\n",
       "  <thead>\n",
       "    <tr style=\"text-align: right;\">\n",
       "      <th></th>\n",
       "      <th>application_key</th>\n",
       "      <th>mvar1</th>\n",
       "      <th>mvar2</th>\n",
       "      <th>mvar3</th>\n",
       "      <th>mvar4</th>\n",
       "      <th>mvar5</th>\n",
       "      <th>mvar6</th>\n",
       "      <th>mvar7</th>\n",
       "      <th>mvar8</th>\n",
       "      <th>mvar9</th>\n",
       "      <th>...</th>\n",
       "      <th>mvar39</th>\n",
       "      <th>mvar40</th>\n",
       "      <th>mvar41</th>\n",
       "      <th>mvar42</th>\n",
       "      <th>mvar43</th>\n",
       "      <th>mvar44</th>\n",
       "      <th>mvar45</th>\n",
       "      <th>mvar46</th>\n",
       "      <th>mvar47</th>\n",
       "      <th>default_ind</th>\n",
       "    </tr>\n",
       "  </thead>\n",
       "  <tbody>\n",
       "    <tr>\n",
       "      <th>0</th>\n",
       "      <td>230032</td>\n",
       "      <td>1696</td>\n",
       "      <td>1.6541</td>\n",
       "      <td>0.000</td>\n",
       "      <td>0.0</td>\n",
       "      <td>0.0</td>\n",
       "      <td>0</td>\n",
       "      <td>6015</td>\n",
       "      <td>322</td>\n",
       "      <td>40369</td>\n",
       "      <td>...</td>\n",
       "      <td>1</td>\n",
       "      <td>73.78</td>\n",
       "      <td>82.547</td>\n",
       "      <td>0.08696</td>\n",
       "      <td>10</td>\n",
       "      <td>0.63899</td>\n",
       "      <td>na</td>\n",
       "      <td>0</td>\n",
       "      <td>C</td>\n",
       "      <td>0</td>\n",
       "    </tr>\n",
       "    <tr>\n",
       "      <th>1</th>\n",
       "      <td>230033</td>\n",
       "      <td>1846</td>\n",
       "      <td>0.8095</td>\n",
       "      <td>0.000</td>\n",
       "      <td>0.0</td>\n",
       "      <td>0.0</td>\n",
       "      <td>102</td>\n",
       "      <td>7532</td>\n",
       "      <td>3171</td>\n",
       "      <td>18234</td>\n",
       "      <td>...</td>\n",
       "      <td>0</td>\n",
       "      <td>99.129</td>\n",
       "      <td>missing</td>\n",
       "      <td>0</td>\n",
       "      <td>13</td>\n",
       "      <td>0.63836</td>\n",
       "      <td>na</td>\n",
       "      <td>na</td>\n",
       "      <td>L</td>\n",
       "      <td>1</td>\n",
       "    </tr>\n",
       "    <tr>\n",
       "      <th>2</th>\n",
       "      <td>230034</td>\n",
       "      <td>1745</td>\n",
       "      <td>0.4001</td>\n",
       "      <td>0.000</td>\n",
       "      <td>0.0</td>\n",
       "      <td>0.0</td>\n",
       "      <td>missing</td>\n",
       "      <td>2536</td>\n",
       "      <td>missing</td>\n",
       "      <td>missing</td>\n",
       "      <td>...</td>\n",
       "      <td>0</td>\n",
       "      <td>missing</td>\n",
       "      <td>29.29</td>\n",
       "      <td>0</td>\n",
       "      <td>1</td>\n",
       "      <td>1.00000</td>\n",
       "      <td>na</td>\n",
       "      <td>0</td>\n",
       "      <td>C</td>\n",
       "      <td>1</td>\n",
       "    </tr>\n",
       "    <tr>\n",
       "      <th>3</th>\n",
       "      <td>230035</td>\n",
       "      <td>1739</td>\n",
       "      <td>0.2193</td>\n",
       "      <td>0.000</td>\n",
       "      <td>0.0</td>\n",
       "      <td>0.0</td>\n",
       "      <td>1982</td>\n",
       "      <td>26440</td>\n",
       "      <td>4955</td>\n",
       "      <td>20316</td>\n",
       "      <td>...</td>\n",
       "      <td>0</td>\n",
       "      <td>96.272</td>\n",
       "      <td>missing</td>\n",
       "      <td>0.15385</td>\n",
       "      <td>3</td>\n",
       "      <td>0.53241</td>\n",
       "      <td>0</td>\n",
       "      <td>0</td>\n",
       "      <td>L</td>\n",
       "      <td>0</td>\n",
       "    </tr>\n",
       "    <tr>\n",
       "      <th>4</th>\n",
       "      <td>230036</td>\n",
       "      <td>1787</td>\n",
       "      <td>0.0118</td>\n",
       "      <td>0.225</td>\n",
       "      <td>0.0</td>\n",
       "      <td>0.0</td>\n",
       "      <td>5451</td>\n",
       "      <td>5494</td>\n",
       "      <td>5494</td>\n",
       "      <td>7987</td>\n",
       "      <td>...</td>\n",
       "      <td>0</td>\n",
       "      <td>115.019</td>\n",
       "      <td>missing</td>\n",
       "      <td>0</td>\n",
       "      <td>1</td>\n",
       "      <td>0.92665</td>\n",
       "      <td>na</td>\n",
       "      <td>na</td>\n",
       "      <td>L</td>\n",
       "      <td>0</td>\n",
       "    </tr>\n",
       "  </tbody>\n",
       "</table>\n",
       "<p>5 rows × 49 columns</p>\n",
       "</div>"
      ],
      "text/plain": [
       "   application_key mvar1   mvar2  mvar3  mvar4  mvar5    mvar6  mvar7  \\\n",
       "0           230032  1696  1.6541  0.000    0.0    0.0        0   6015   \n",
       "1           230033  1846  0.8095  0.000    0.0    0.0      102   7532   \n",
       "2           230034  1745  0.4001  0.000    0.0    0.0  missing   2536   \n",
       "3           230035  1739  0.2193  0.000    0.0    0.0     1982  26440   \n",
       "4           230036  1787  0.0118  0.225    0.0    0.0     5451   5494   \n",
       "\n",
       "     mvar8    mvar9     ...     mvar39   mvar40   mvar41   mvar42  mvar43  \\\n",
       "0      322    40369     ...          1    73.78   82.547  0.08696      10   \n",
       "1     3171    18234     ...          0   99.129  missing        0      13   \n",
       "2  missing  missing     ...          0  missing    29.29        0       1   \n",
       "3     4955    20316     ...          0   96.272  missing  0.15385       3   \n",
       "4     5494     7987     ...          0  115.019  missing        0       1   \n",
       "\n",
       "    mvar44 mvar45 mvar46 mvar47 default_ind  \n",
       "0  0.63899     na      0      C           0  \n",
       "1  0.63836     na     na      L           1  \n",
       "2  1.00000     na      0      C           1  \n",
       "3  0.53241      0      0      L           0  \n",
       "4  0.92665     na     na      L           0  \n",
       "\n",
       "[5 rows x 49 columns]"
      ]
     },
     "execution_count": 6,
     "metadata": {},
     "output_type": "execute_result"
    }
   ],
   "source": [
    "data.head()"
   ]
  },
  {
   "cell_type": "code",
   "execution_count": 7,
   "metadata": {},
   "outputs": [],
   "source": [
    "data = data.replace(['missing','na'], np.nan)"
   ]
  },
  {
   "cell_type": "code",
   "execution_count": 8,
   "metadata": {},
   "outputs": [
    {
     "data": {
      "text/html": [
       "<div>\n",
       "<style scoped>\n",
       "    .dataframe tbody tr th:only-of-type {\n",
       "        vertical-align: middle;\n",
       "    }\n",
       "\n",
       "    .dataframe tbody tr th {\n",
       "        vertical-align: top;\n",
       "    }\n",
       "\n",
       "    .dataframe thead th {\n",
       "        text-align: right;\n",
       "    }\n",
       "</style>\n",
       "<table border=\"1\" class=\"dataframe\">\n",
       "  <thead>\n",
       "    <tr style=\"text-align: right;\">\n",
       "      <th></th>\n",
       "      <th>application_key</th>\n",
       "      <th>mvar2</th>\n",
       "      <th>mvar3</th>\n",
       "      <th>mvar4</th>\n",
       "      <th>mvar5</th>\n",
       "      <th>mvar14</th>\n",
       "      <th>mvar21</th>\n",
       "      <th>mvar22</th>\n",
       "      <th>mvar23</th>\n",
       "      <th>mvar24</th>\n",
       "      <th>mvar33</th>\n",
       "      <th>mvar44</th>\n",
       "      <th>default_ind</th>\n",
       "    </tr>\n",
       "  </thead>\n",
       "  <tbody>\n",
       "    <tr>\n",
       "      <th>count</th>\n",
       "      <td>80000.000000</td>\n",
       "      <td>74447.000000</td>\n",
       "      <td>79499.000000</td>\n",
       "      <td>79499.000000</td>\n",
       "      <td>79499.00000</td>\n",
       "      <td>8.000000e+04</td>\n",
       "      <td>57439.000000</td>\n",
       "      <td>50876.000000</td>\n",
       "      <td>39752.000000</td>\n",
       "      <td>61098.000000</td>\n",
       "      <td>78249.000000</td>\n",
       "      <td>72255.000000</td>\n",
       "      <td>80000.000000</td>\n",
       "    </tr>\n",
       "    <tr>\n",
       "      <th>mean</th>\n",
       "      <td>270031.500000</td>\n",
       "      <td>1.105629</td>\n",
       "      <td>5.280955</td>\n",
       "      <td>0.474516</td>\n",
       "      <td>1.12472</td>\n",
       "      <td>1.960918e+05</td>\n",
       "      <td>57.790097</td>\n",
       "      <td>4423.856509</td>\n",
       "      <td>4305.929828</td>\n",
       "      <td>69.981834</td>\n",
       "      <td>6.996557</td>\n",
       "      <td>0.705285</td>\n",
       "      <td>0.246213</td>\n",
       "    </tr>\n",
       "    <tr>\n",
       "      <th>std</th>\n",
       "      <td>23094.155105</td>\n",
       "      <td>1.645299</td>\n",
       "      <td>10.815463</td>\n",
       "      <td>1.796261</td>\n",
       "      <td>5.99545</td>\n",
       "      <td>7.888377e+06</td>\n",
       "      <td>35.577165</td>\n",
       "      <td>3782.048321</td>\n",
       "      <td>3864.873106</td>\n",
       "      <td>300.080442</td>\n",
       "      <td>7.650139</td>\n",
       "      <td>0.245879</td>\n",
       "      <td>0.430806</td>\n",
       "    </tr>\n",
       "    <tr>\n",
       "      <th>min</th>\n",
       "      <td>230032.000000</td>\n",
       "      <td>0.000000</td>\n",
       "      <td>0.000000</td>\n",
       "      <td>0.000000</td>\n",
       "      <td>0.00000</td>\n",
       "      <td>0.000000e+00</td>\n",
       "      <td>0.170000</td>\n",
       "      <td>0.000000</td>\n",
       "      <td>0.000000</td>\n",
       "      <td>0.000000</td>\n",
       "      <td>0.083300</td>\n",
       "      <td>0.060660</td>\n",
       "      <td>0.000000</td>\n",
       "    </tr>\n",
       "    <tr>\n",
       "      <th>25%</th>\n",
       "      <td>250031.750000</td>\n",
       "      <td>0.140100</td>\n",
       "      <td>0.000000</td>\n",
       "      <td>0.000000</td>\n",
       "      <td>0.00000</td>\n",
       "      <td>4.261300e+04</td>\n",
       "      <td>26.930000</td>\n",
       "      <td>726.715000</td>\n",
       "      <td>541.157500</td>\n",
       "      <td>9.892500</td>\n",
       "      <td>1.166700</td>\n",
       "      <td>0.515220</td>\n",
       "      <td>0.000000</td>\n",
       "    </tr>\n",
       "    <tr>\n",
       "      <th>50%</th>\n",
       "      <td>270031.500000</td>\n",
       "      <td>0.538900</td>\n",
       "      <td>0.300000</td>\n",
       "      <td>0.000000</td>\n",
       "      <td>0.00000</td>\n",
       "      <td>7.234300e+04</td>\n",
       "      <td>59.690000</td>\n",
       "      <td>3974.425000</td>\n",
       "      <td>3700.000000</td>\n",
       "      <td>40.440000</td>\n",
       "      <td>3.916700</td>\n",
       "      <td>0.737030</td>\n",
       "      <td>0.000000</td>\n",
       "    </tr>\n",
       "    <tr>\n",
       "      <th>75%</th>\n",
       "      <td>290031.250000</td>\n",
       "      <td>1.445050</td>\n",
       "      <td>6.447000</td>\n",
       "      <td>0.000000</td>\n",
       "      <td>0.00000</td>\n",
       "      <td>1.238750e+05</td>\n",
       "      <td>86.620000</td>\n",
       "      <td>7579.297500</td>\n",
       "      <td>7520.950000</td>\n",
       "      <td>76.540000</td>\n",
       "      <td>10.666700</td>\n",
       "      <td>0.943475</td>\n",
       "      <td>0.000000</td>\n",
       "    </tr>\n",
       "    <tr>\n",
       "      <th>max</th>\n",
       "      <td>310031.000000</td>\n",
       "      <td>44.630100</td>\n",
       "      <td>286.858000</td>\n",
       "      <td>114.696000</td>\n",
       "      <td>226.52700</td>\n",
       "      <td>9.910000e+08</td>\n",
       "      <td>1305.250000</td>\n",
       "      <td>64800.000000</td>\n",
       "      <td>124533.330000</td>\n",
       "      <td>27867.400000</td>\n",
       "      <td>76.000000</td>\n",
       "      <td>1.000000</td>\n",
       "      <td>1.000000</td>\n",
       "    </tr>\n",
       "  </tbody>\n",
       "</table>\n",
       "</div>"
      ],
      "text/plain": [
       "       application_key         mvar2         mvar3         mvar4        mvar5  \\\n",
       "count     80000.000000  74447.000000  79499.000000  79499.000000  79499.00000   \n",
       "mean     270031.500000      1.105629      5.280955      0.474516      1.12472   \n",
       "std       23094.155105      1.645299     10.815463      1.796261      5.99545   \n",
       "min      230032.000000      0.000000      0.000000      0.000000      0.00000   \n",
       "25%      250031.750000      0.140100      0.000000      0.000000      0.00000   \n",
       "50%      270031.500000      0.538900      0.300000      0.000000      0.00000   \n",
       "75%      290031.250000      1.445050      6.447000      0.000000      0.00000   \n",
       "max      310031.000000     44.630100    286.858000    114.696000    226.52700   \n",
       "\n",
       "             mvar14        mvar21        mvar22         mvar23        mvar24  \\\n",
       "count  8.000000e+04  57439.000000  50876.000000   39752.000000  61098.000000   \n",
       "mean   1.960918e+05     57.790097   4423.856509    4305.929828     69.981834   \n",
       "std    7.888377e+06     35.577165   3782.048321    3864.873106    300.080442   \n",
       "min    0.000000e+00      0.170000      0.000000       0.000000      0.000000   \n",
       "25%    4.261300e+04     26.930000    726.715000     541.157500      9.892500   \n",
       "50%    7.234300e+04     59.690000   3974.425000    3700.000000     40.440000   \n",
       "75%    1.238750e+05     86.620000   7579.297500    7520.950000     76.540000   \n",
       "max    9.910000e+08   1305.250000  64800.000000  124533.330000  27867.400000   \n",
       "\n",
       "             mvar33        mvar44   default_ind  \n",
       "count  78249.000000  72255.000000  80000.000000  \n",
       "mean       6.996557      0.705285      0.246213  \n",
       "std        7.650139      0.245879      0.430806  \n",
       "min        0.083300      0.060660      0.000000  \n",
       "25%        1.166700      0.515220      0.000000  \n",
       "50%        3.916700      0.737030      0.000000  \n",
       "75%       10.666700      0.943475      0.000000  \n",
       "max       76.000000      1.000000      1.000000  "
      ]
     },
     "execution_count": 8,
     "metadata": {},
     "output_type": "execute_result"
    }
   ],
   "source": [
    "data.describe()"
   ]
  },
  {
   "cell_type": "code",
   "execution_count": 9,
   "metadata": {},
   "outputs": [
    {
     "data": {
      "text/plain": [
       "application_key        0\n",
       "mvar1               3639\n",
       "mvar2               5553\n",
       "mvar3                501\n",
       "mvar4                501\n",
       "mvar5                501\n",
       "mvar6              18964\n",
       "mvar7               7394\n",
       "mvar8              18964\n",
       "mvar9              11408\n",
       "mvar10               502\n",
       "mvar11             44819\n",
       "mvar12             14078\n",
       "mvar13              8352\n",
       "mvar14                 0\n",
       "mvar15             32067\n",
       "mvar16             18510\n",
       "mvar17             15846\n",
       "mvar18             14771\n",
       "mvar19                 4\n",
       "mvar20               502\n",
       "mvar21             22561\n",
       "mvar22             29124\n",
       "mvar23             40248\n",
       "mvar24             18902\n",
       "mvar25              7706\n",
       "mvar26             10610\n",
       "mvar27             13209\n",
       "mvar28               502\n",
       "mvar29               502\n",
       "mvar30             36417\n",
       "mvar31             56218\n",
       "mvar32              7706\n",
       "mvar33              1751\n",
       "mvar34               502\n",
       "mvar35             33014\n",
       "mvar36              2898\n",
       "mvar37              7706\n",
       "mvar38               502\n",
       "mvar39              6040\n",
       "mvar40             62557\n",
       "mvar41             54578\n",
       "mvar42              1901\n",
       "mvar43               818\n",
       "mvar44              7745\n",
       "mvar45             44855\n",
       "mvar46             22789\n",
       "mvar47                 0\n",
       "default_ind            0\n",
       "dtype: int64"
      ]
     },
     "execution_count": 9,
     "metadata": {},
     "output_type": "execute_result"
    }
   ],
   "source": [
    "data.isna().sum()"
   ]
  },
  {
   "cell_type": "code",
   "execution_count": 10,
   "metadata": {},
   "outputs": [],
   "source": [
    "data['mvar2'].fillna(data['mvar2'].mean(), inplace=True)"
   ]
  },
  {
   "cell_type": "code",
   "execution_count": 11,
   "metadata": {},
   "outputs": [],
   "source": [
    "data['mvar3'].fillna(data['mvar3'].mean(), inplace=True)"
   ]
  },
  {
   "cell_type": "code",
   "execution_count": 12,
   "metadata": {},
   "outputs": [],
   "source": [
    "data['mvar4'].fillna(data['mvar4'].mean(), inplace=True)"
   ]
  },
  {
   "cell_type": "code",
   "execution_count": 13,
   "metadata": {},
   "outputs": [],
   "source": [
    "data['mvar5'].fillna(data['mvar5'].mean(), inplace=True)"
   ]
  },
  {
   "cell_type": "code",
   "execution_count": 14,
   "metadata": {},
   "outputs": [],
   "source": [
    "data['mvar14'].fillna(data['mvar14'].mean(), inplace=True)"
   ]
  },
  {
   "cell_type": "code",
   "execution_count": 15,
   "metadata": {},
   "outputs": [],
   "source": [
    "data['mvar21'].fillna(data['mvar21'].mean(), inplace=True)"
   ]
  },
  {
   "cell_type": "code",
   "execution_count": 16,
   "metadata": {},
   "outputs": [],
   "source": [
    "data['mvar22'].fillna(data['mvar22'].mean(), inplace=True)"
   ]
  },
  {
   "cell_type": "code",
   "execution_count": 17,
   "metadata": {},
   "outputs": [],
   "source": [
    "data['mvar23'].fillna(data['mvar23'].mean(), inplace=True)"
   ]
  },
  {
   "cell_type": "code",
   "execution_count": 18,
   "metadata": {},
   "outputs": [],
   "source": [
    "data['mvar24'].fillna(data['mvar24'].mean(), inplace=True)"
   ]
  },
  {
   "cell_type": "code",
   "execution_count": 19,
   "metadata": {},
   "outputs": [],
   "source": [
    "data['mvar33'].fillna(data['mvar33'].mean(), inplace=True)"
   ]
  },
  {
   "cell_type": "code",
   "execution_count": 20,
   "metadata": {},
   "outputs": [],
   "source": [
    "data['mvar44'].fillna(data['mvar44'].mean(), inplace=True)"
   ]
  },
  {
   "cell_type": "code",
   "execution_count": 21,
   "metadata": {},
   "outputs": [
    {
     "data": {
      "text/plain": [
       "application_key        0\n",
       "mvar1               3639\n",
       "mvar2                  0\n",
       "mvar3                  0\n",
       "mvar4                  0\n",
       "mvar5                  0\n",
       "mvar6              18964\n",
       "mvar7               7394\n",
       "mvar8              18964\n",
       "mvar9              11408\n",
       "mvar10               502\n",
       "mvar11             44819\n",
       "mvar12             14078\n",
       "mvar13              8352\n",
       "mvar14                 0\n",
       "mvar15             32067\n",
       "mvar16             18510\n",
       "mvar17             15846\n",
       "mvar18             14771\n",
       "mvar19                 4\n",
       "mvar20               502\n",
       "mvar21                 0\n",
       "mvar22                 0\n",
       "mvar23                 0\n",
       "mvar24                 0\n",
       "mvar25              7706\n",
       "mvar26             10610\n",
       "mvar27             13209\n",
       "mvar28               502\n",
       "mvar29               502\n",
       "mvar30             36417\n",
       "mvar31             56218\n",
       "mvar32              7706\n",
       "mvar33                 0\n",
       "mvar34               502\n",
       "mvar35             33014\n",
       "mvar36              2898\n",
       "mvar37              7706\n",
       "mvar38               502\n",
       "mvar39              6040\n",
       "mvar40             62557\n",
       "mvar41             54578\n",
       "mvar42              1901\n",
       "mvar43               818\n",
       "mvar44                 0\n",
       "mvar45             44855\n",
       "mvar46             22789\n",
       "mvar47                 0\n",
       "default_ind            0\n",
       "dtype: int64"
      ]
     },
     "execution_count": 21,
     "metadata": {},
     "output_type": "execute_result"
    }
   ],
   "source": [
    "data.isna().sum()"
   ]
  },
  {
   "cell_type": "code",
   "execution_count": 22,
   "metadata": {},
   "outputs": [
    {
     "data": {
      "text/html": [
       "<div>\n",
       "<style scoped>\n",
       "    .dataframe tbody tr th:only-of-type {\n",
       "        vertical-align: middle;\n",
       "    }\n",
       "\n",
       "    .dataframe tbody tr th {\n",
       "        vertical-align: top;\n",
       "    }\n",
       "\n",
       "    .dataframe thead th {\n",
       "        text-align: right;\n",
       "    }\n",
       "</style>\n",
       "<table border=\"1\" class=\"dataframe\">\n",
       "  <thead>\n",
       "    <tr style=\"text-align: right;\">\n",
       "      <th></th>\n",
       "      <th>application_key</th>\n",
       "      <th>mvar1</th>\n",
       "      <th>mvar2</th>\n",
       "      <th>mvar3</th>\n",
       "      <th>mvar4</th>\n",
       "      <th>mvar5</th>\n",
       "      <th>mvar6</th>\n",
       "      <th>mvar7</th>\n",
       "      <th>mvar8</th>\n",
       "      <th>mvar9</th>\n",
       "      <th>...</th>\n",
       "      <th>mvar39</th>\n",
       "      <th>mvar40</th>\n",
       "      <th>mvar41</th>\n",
       "      <th>mvar42</th>\n",
       "      <th>mvar43</th>\n",
       "      <th>mvar44</th>\n",
       "      <th>mvar45</th>\n",
       "      <th>mvar46</th>\n",
       "      <th>mvar47</th>\n",
       "      <th>default_ind</th>\n",
       "    </tr>\n",
       "  </thead>\n",
       "  <tbody>\n",
       "    <tr>\n",
       "      <th>0</th>\n",
       "      <td>230032</td>\n",
       "      <td>1696</td>\n",
       "      <td>1.6541</td>\n",
       "      <td>0.000</td>\n",
       "      <td>0.0</td>\n",
       "      <td>0.0</td>\n",
       "      <td>0</td>\n",
       "      <td>6015</td>\n",
       "      <td>322</td>\n",
       "      <td>40369</td>\n",
       "      <td>...</td>\n",
       "      <td>1</td>\n",
       "      <td>73.78</td>\n",
       "      <td>82.547</td>\n",
       "      <td>0.08696</td>\n",
       "      <td>10</td>\n",
       "      <td>0.63899</td>\n",
       "      <td>NaN</td>\n",
       "      <td>0</td>\n",
       "      <td>C</td>\n",
       "      <td>0</td>\n",
       "    </tr>\n",
       "    <tr>\n",
       "      <th>1</th>\n",
       "      <td>230033</td>\n",
       "      <td>1846</td>\n",
       "      <td>0.8095</td>\n",
       "      <td>0.000</td>\n",
       "      <td>0.0</td>\n",
       "      <td>0.0</td>\n",
       "      <td>102</td>\n",
       "      <td>7532</td>\n",
       "      <td>3171</td>\n",
       "      <td>18234</td>\n",
       "      <td>...</td>\n",
       "      <td>0</td>\n",
       "      <td>99.129</td>\n",
       "      <td>NaN</td>\n",
       "      <td>0</td>\n",
       "      <td>13</td>\n",
       "      <td>0.63836</td>\n",
       "      <td>NaN</td>\n",
       "      <td>NaN</td>\n",
       "      <td>L</td>\n",
       "      <td>1</td>\n",
       "    </tr>\n",
       "    <tr>\n",
       "      <th>2</th>\n",
       "      <td>230034</td>\n",
       "      <td>1745</td>\n",
       "      <td>0.4001</td>\n",
       "      <td>0.000</td>\n",
       "      <td>0.0</td>\n",
       "      <td>0.0</td>\n",
       "      <td>NaN</td>\n",
       "      <td>2536</td>\n",
       "      <td>NaN</td>\n",
       "      <td>NaN</td>\n",
       "      <td>...</td>\n",
       "      <td>0</td>\n",
       "      <td>NaN</td>\n",
       "      <td>29.29</td>\n",
       "      <td>0</td>\n",
       "      <td>1</td>\n",
       "      <td>1.00000</td>\n",
       "      <td>NaN</td>\n",
       "      <td>0</td>\n",
       "      <td>C</td>\n",
       "      <td>1</td>\n",
       "    </tr>\n",
       "    <tr>\n",
       "      <th>3</th>\n",
       "      <td>230035</td>\n",
       "      <td>1739</td>\n",
       "      <td>0.2193</td>\n",
       "      <td>0.000</td>\n",
       "      <td>0.0</td>\n",
       "      <td>0.0</td>\n",
       "      <td>1982</td>\n",
       "      <td>26440</td>\n",
       "      <td>4955</td>\n",
       "      <td>20316</td>\n",
       "      <td>...</td>\n",
       "      <td>0</td>\n",
       "      <td>96.272</td>\n",
       "      <td>NaN</td>\n",
       "      <td>0.15385</td>\n",
       "      <td>3</td>\n",
       "      <td>0.53241</td>\n",
       "      <td>0</td>\n",
       "      <td>0</td>\n",
       "      <td>L</td>\n",
       "      <td>0</td>\n",
       "    </tr>\n",
       "    <tr>\n",
       "      <th>4</th>\n",
       "      <td>230036</td>\n",
       "      <td>1787</td>\n",
       "      <td>0.0118</td>\n",
       "      <td>0.225</td>\n",
       "      <td>0.0</td>\n",
       "      <td>0.0</td>\n",
       "      <td>5451</td>\n",
       "      <td>5494</td>\n",
       "      <td>5494</td>\n",
       "      <td>7987</td>\n",
       "      <td>...</td>\n",
       "      <td>0</td>\n",
       "      <td>115.019</td>\n",
       "      <td>NaN</td>\n",
       "      <td>0</td>\n",
       "      <td>1</td>\n",
       "      <td>0.92665</td>\n",
       "      <td>NaN</td>\n",
       "      <td>NaN</td>\n",
       "      <td>L</td>\n",
       "      <td>0</td>\n",
       "    </tr>\n",
       "  </tbody>\n",
       "</table>\n",
       "<p>5 rows × 49 columns</p>\n",
       "</div>"
      ],
      "text/plain": [
       "   application_key mvar1   mvar2  mvar3  mvar4  mvar5 mvar6  mvar7 mvar8  \\\n",
       "0           230032  1696  1.6541  0.000    0.0    0.0     0   6015   322   \n",
       "1           230033  1846  0.8095  0.000    0.0    0.0   102   7532  3171   \n",
       "2           230034  1745  0.4001  0.000    0.0    0.0   NaN   2536   NaN   \n",
       "3           230035  1739  0.2193  0.000    0.0    0.0  1982  26440  4955   \n",
       "4           230036  1787  0.0118  0.225    0.0    0.0  5451   5494  5494   \n",
       "\n",
       "   mvar9     ...     mvar39   mvar40  mvar41   mvar42  mvar43   mvar44 mvar45  \\\n",
       "0  40369     ...          1    73.78  82.547  0.08696      10  0.63899    NaN   \n",
       "1  18234     ...          0   99.129     NaN        0      13  0.63836    NaN   \n",
       "2    NaN     ...          0      NaN   29.29        0       1  1.00000    NaN   \n",
       "3  20316     ...          0   96.272     NaN  0.15385       3  0.53241      0   \n",
       "4   7987     ...          0  115.019     NaN        0       1  0.92665    NaN   \n",
       "\n",
       "  mvar46 mvar47 default_ind  \n",
       "0      0      C           0  \n",
       "1    NaN      L           1  \n",
       "2      0      C           1  \n",
       "3      0      L           0  \n",
       "4    NaN      L           0  \n",
       "\n",
       "[5 rows x 49 columns]"
      ]
     },
     "execution_count": 22,
     "metadata": {},
     "output_type": "execute_result"
    }
   ],
   "source": [
    "data.head()"
   ]
  },
  {
   "cell_type": "code",
   "execution_count": 23,
   "metadata": {},
   "outputs": [],
   "source": [
    "data['mvar1'].fillna(1736, inplace=True)"
   ]
  },
  {
   "cell_type": "code",
   "execution_count": 24,
   "metadata": {},
   "outputs": [
    {
     "data": {
      "text/plain": [
       "0    1736\n",
       "dtype: object"
      ]
     },
     "execution_count": 24,
     "metadata": {},
     "output_type": "execute_result"
    }
   ],
   "source": [
    "data.mvar1.mode()"
   ]
  },
  {
   "cell_type": "code",
   "execution_count": 25,
   "metadata": {},
   "outputs": [
    {
     "data": {
      "text/plain": [
       "0    0\n",
       "dtype: object"
      ]
     },
     "execution_count": 25,
     "metadata": {},
     "output_type": "execute_result"
    }
   ],
   "source": [
    "data.mvar6.mode()"
   ]
  },
  {
   "cell_type": "code",
   "execution_count": 26,
   "metadata": {},
   "outputs": [],
   "source": [
    "data['mvar6'].fillna(0, inplace=True)"
   ]
  },
  {
   "cell_type": "code",
   "execution_count": 27,
   "metadata": {},
   "outputs": [
    {
     "data": {
      "text/plain": [
       "count     72606\n",
       "unique    28564\n",
       "top           0\n",
       "freq       2988\n",
       "Name: mvar7, dtype: object"
      ]
     },
     "execution_count": 27,
     "metadata": {},
     "output_type": "execute_result"
    }
   ],
   "source": [
    "data.mvar7.describe()"
   ]
  },
  {
   "cell_type": "code",
   "execution_count": 28,
   "metadata": {},
   "outputs": [],
   "source": [
    "data['mvar7'].fillna(0, inplace=True)"
   ]
  },
  {
   "cell_type": "code",
   "execution_count": 29,
   "metadata": {},
   "outputs": [
    {
     "data": {
      "text/plain": [
       "count     61036\n",
       "unique    15704\n",
       "top           0\n",
       "freq       2631\n",
       "Name: mvar8, dtype: object"
      ]
     },
     "execution_count": 29,
     "metadata": {},
     "output_type": "execute_result"
    }
   ],
   "source": [
    "data.mvar8.describe()"
   ]
  },
  {
   "cell_type": "code",
   "execution_count": 30,
   "metadata": {},
   "outputs": [],
   "source": [
    "data['mvar8'].fillna(0, inplace=True)"
   ]
  },
  {
   "cell_type": "code",
   "execution_count": 31,
   "metadata": {},
   "outputs": [
    {
     "data": {
      "text/plain": [
       "count     68592\n",
       "unique    29578\n",
       "top         297\n",
       "freq       1208\n",
       "Name: mvar9, dtype: object"
      ]
     },
     "execution_count": 31,
     "metadata": {},
     "output_type": "execute_result"
    }
   ],
   "source": [
    "data.mvar9.describe()"
   ]
  },
  {
   "cell_type": "code",
   "execution_count": 32,
   "metadata": {},
   "outputs": [],
   "source": [
    "data['mvar9'].fillna(297, inplace=True)"
   ]
  },
  {
   "cell_type": "code",
   "execution_count": 33,
   "metadata": {},
   "outputs": [
    {
     "data": {
      "text/plain": [
       "count     79498\n",
       "unique    39639\n",
       "top           0\n",
       "freq      10330\n",
       "Name: mvar10, dtype: object"
      ]
     },
     "execution_count": 33,
     "metadata": {},
     "output_type": "execute_result"
    }
   ],
   "source": [
    "data.mvar10.describe()"
   ]
  },
  {
   "cell_type": "code",
   "execution_count": 34,
   "metadata": {},
   "outputs": [],
   "source": [
    "data['mvar10'].fillna(0, inplace=True)"
   ]
  },
  {
   "cell_type": "code",
   "execution_count": 35,
   "metadata": {},
   "outputs": [
    {
     "data": {
      "text/plain": [
       "count     35181\n",
       "unique    11543\n",
       "top           0\n",
       "freq         98\n",
       "Name: mvar11, dtype: object"
      ]
     },
     "execution_count": 35,
     "metadata": {},
     "output_type": "execute_result"
    }
   ],
   "source": [
    "data.mvar11.describe()"
   ]
  },
  {
   "cell_type": "code",
   "execution_count": 36,
   "metadata": {},
   "outputs": [],
   "source": [
    "data['mvar11'].fillna(0, inplace=True)"
   ]
  },
  {
   "cell_type": "code",
   "execution_count": 37,
   "metadata": {},
   "outputs": [
    {
     "data": {
      "text/plain": [
       "count     65922\n",
       "unique    20078\n",
       "top           0\n",
       "freq       5111\n",
       "Name: mvar12, dtype: object"
      ]
     },
     "execution_count": 37,
     "metadata": {},
     "output_type": "execute_result"
    }
   ],
   "source": [
    "data.mvar12.describe()"
   ]
  },
  {
   "cell_type": "code",
   "execution_count": 38,
   "metadata": {},
   "outputs": [],
   "source": [
    "data['mvar12'].fillna(0, inplace=True)"
   ]
  },
  {
   "cell_type": "code",
   "execution_count": 39,
   "metadata": {},
   "outputs": [
    {
     "data": {
      "text/plain": [
       "count     71648\n",
       "unique    27225\n",
       "top           0\n",
       "freq      12838\n",
       "Name: mvar13, dtype: object"
      ]
     },
     "execution_count": 39,
     "metadata": {},
     "output_type": "execute_result"
    }
   ],
   "source": [
    "data.mvar13.describe()"
   ]
  },
  {
   "cell_type": "code",
   "execution_count": 40,
   "metadata": {},
   "outputs": [],
   "source": [
    "data['mvar13'].fillna(0, inplace=True)"
   ]
  },
  {
   "cell_type": "code",
   "execution_count": 41,
   "metadata": {},
   "outputs": [
    {
     "data": {
      "text/plain": [
       "count      47933\n",
       "unique     33069\n",
       "top       346850\n",
       "freq         101\n",
       "Name: mvar15, dtype: object"
      ]
     },
     "execution_count": 41,
     "metadata": {},
     "output_type": "execute_result"
    }
   ],
   "source": [
    "data.mvar15.describe()"
   ]
  },
  {
   "cell_type": "code",
   "execution_count": 42,
   "metadata": {},
   "outputs": [],
   "source": [
    "data['mvar15'].fillna(346850, inplace=True)"
   ]
  },
  {
   "cell_type": "code",
   "execution_count": 43,
   "metadata": {},
   "outputs": [
    {
     "data": {
      "text/plain": [
       "count     61490\n",
       "unique       12\n",
       "top           0\n",
       "freq      51396\n",
       "Name: mvar16, dtype: object"
      ]
     },
     "execution_count": 43,
     "metadata": {},
     "output_type": "execute_result"
    }
   ],
   "source": [
    "data.mvar16.describe()"
   ]
  },
  {
   "cell_type": "code",
   "execution_count": 44,
   "metadata": {},
   "outputs": [],
   "source": [
    "data['mvar16'].fillna(0, inplace=True)"
   ]
  },
  {
   "cell_type": "code",
   "execution_count": 45,
   "metadata": {},
   "outputs": [
    {
     "data": {
      "text/plain": [
       "count     64154\n",
       "unique       15\n",
       "top           0\n",
       "freq      52719\n",
       "Name: mvar17, dtype: object"
      ]
     },
     "execution_count": 45,
     "metadata": {},
     "output_type": "execute_result"
    }
   ],
   "source": [
    "data.mvar17.describe()"
   ]
  },
  {
   "cell_type": "code",
   "execution_count": 46,
   "metadata": {},
   "outputs": [],
   "source": [
    "data['mvar17'].fillna(0, inplace=True)"
   ]
  },
  {
   "cell_type": "code",
   "execution_count": 47,
   "metadata": {},
   "outputs": [
    {
     "data": {
      "text/plain": [
       "count     65229\n",
       "unique       16\n",
       "top           0\n",
       "freq      53325\n",
       "Name: mvar18, dtype: object"
      ]
     },
     "execution_count": 47,
     "metadata": {},
     "output_type": "execute_result"
    }
   ],
   "source": [
    "data.mvar18.describe()"
   ]
  },
  {
   "cell_type": "code",
   "execution_count": 48,
   "metadata": {},
   "outputs": [],
   "source": [
    "data['mvar18'].fillna(0, inplace=True)"
   ]
  },
  {
   "cell_type": "code",
   "execution_count": 49,
   "metadata": {},
   "outputs": [
    {
     "data": {
      "text/plain": [
       "count     79996\n",
       "unique       49\n",
       "top           0\n",
       "freq      38082\n",
       "Name: mvar19, dtype: int64"
      ]
     },
     "execution_count": 49,
     "metadata": {},
     "output_type": "execute_result"
    }
   ],
   "source": [
    "data.mvar19.describe()"
   ]
  },
  {
   "cell_type": "code",
   "execution_count": 50,
   "metadata": {},
   "outputs": [],
   "source": [
    "data['mvar19'].fillna(0, inplace=True)"
   ]
  },
  {
   "cell_type": "code",
   "execution_count": 51,
   "metadata": {},
   "outputs": [
    {
     "data": {
      "text/plain": [
       "count     79498\n",
       "unique       28\n",
       "top           0\n",
       "freq      44996\n",
       "Name: mvar20, dtype: object"
      ]
     },
     "execution_count": 51,
     "metadata": {},
     "output_type": "execute_result"
    }
   ],
   "source": [
    "data.mvar20.describe()"
   ]
  },
  {
   "cell_type": "code",
   "execution_count": 52,
   "metadata": {},
   "outputs": [],
   "source": [
    "data['mvar20'].fillna(0, inplace=True)"
   ]
  },
  {
   "cell_type": "code",
   "execution_count": 53,
   "metadata": {},
   "outputs": [
    {
     "data": {
      "text/plain": [
       "count     72294\n",
       "unique     5425\n",
       "top         183\n",
       "freq        382\n",
       "Name: mvar25, dtype: object"
      ]
     },
     "execution_count": 53,
     "metadata": {},
     "output_type": "execute_result"
    }
   ],
   "source": [
    "data.mvar25.describe()"
   ]
  },
  {
   "cell_type": "code",
   "execution_count": 54,
   "metadata": {},
   "outputs": [],
   "source": [
    "data['mvar25'].fillna(183, inplace=True)"
   ]
  },
  {
   "cell_type": "code",
   "execution_count": 55,
   "metadata": {},
   "outputs": [
    {
     "data": {
      "text/plain": [
       "count     80000\n",
       "unique     5426\n",
       "top         183\n",
       "freq       7706\n",
       "Name: mvar25, dtype: int64"
      ]
     },
     "execution_count": 55,
     "metadata": {},
     "output_type": "execute_result"
    }
   ],
   "source": [
    "data.mvar25.describe()"
   ]
  },
  {
   "cell_type": "code",
   "execution_count": 56,
   "metadata": {},
   "outputs": [
    {
     "data": {
      "text/plain": [
       "count     69390\n",
       "unique      619\n",
       "top         183\n",
       "freq        568\n",
       "Name: mvar26, dtype: object"
      ]
     },
     "execution_count": 56,
     "metadata": {},
     "output_type": "execute_result"
    }
   ],
   "source": [
    "data.mvar26.describe()"
   ]
  },
  {
   "cell_type": "code",
   "execution_count": 57,
   "metadata": {},
   "outputs": [
    {
     "data": {
      "text/plain": [
       "count     66791\n",
       "unique      578\n",
       "top         183\n",
       "freq        619\n",
       "Name: mvar27, dtype: object"
      ]
     },
     "execution_count": 57,
     "metadata": {},
     "output_type": "execute_result"
    }
   ],
   "source": [
    "data.mvar27.describe()"
   ]
  },
  {
   "cell_type": "code",
   "execution_count": 58,
   "metadata": {},
   "outputs": [
    {
     "data": {
      "text/plain": [
       "count     79498\n",
       "unique       97\n",
       "top       30386\n",
       "freq      22189\n",
       "Name: mvar28, dtype: object"
      ]
     },
     "execution_count": 58,
     "metadata": {},
     "output_type": "execute_result"
    }
   ],
   "source": [
    "data.mvar28.describe()"
   ]
  },
  {
   "cell_type": "code",
   "execution_count": 59,
   "metadata": {},
   "outputs": [
    {
     "data": {
      "text/plain": [
       "count     79498\n",
       "unique      668\n",
       "top        3772\n",
       "freq        398\n",
       "Name: mvar29, dtype: object"
      ]
     },
     "execution_count": 59,
     "metadata": {},
     "output_type": "execute_result"
    }
   ],
   "source": [
    "data.mvar29.describe()"
   ]
  },
  {
   "cell_type": "code",
   "execution_count": 60,
   "metadata": {},
   "outputs": [
    {
     "data": {
      "text/plain": [
       "count     43583\n",
       "unique      279\n",
       "top        3711\n",
       "freq        424\n",
       "Name: mvar30, dtype: object"
      ]
     },
     "execution_count": 60,
     "metadata": {},
     "output_type": "execute_result"
    }
   ],
   "source": [
    "data.mvar30.describe()"
   ]
  },
  {
   "cell_type": "code",
   "execution_count": 61,
   "metadata": {},
   "outputs": [
    {
     "data": {
      "text/plain": [
       "count     23782\n",
       "unique      412\n",
       "top        3772\n",
       "freq        190\n",
       "Name: mvar31, dtype: object"
      ]
     },
     "execution_count": 61,
     "metadata": {},
     "output_type": "execute_result"
    }
   ],
   "source": [
    "data.mvar31.describe()"
   ]
  },
  {
   "cell_type": "code",
   "execution_count": 62,
   "metadata": {},
   "outputs": [
    {
     "data": {
      "text/plain": [
       "count     72294\n",
       "unique     2837\n",
       "top           6\n",
       "freq        327\n",
       "Name: mvar32, dtype: object"
      ]
     },
     "execution_count": 62,
     "metadata": {},
     "output_type": "execute_result"
    }
   ],
   "source": [
    "data.mvar32.describe()"
   ]
  },
  {
   "cell_type": "code",
   "execution_count": 63,
   "metadata": {},
   "outputs": [
    {
     "data": {
      "text/plain": [
       "count     79498\n",
       "unique       18\n",
       "top           0\n",
       "freq      67048\n",
       "Name: mvar34, dtype: object"
      ]
     },
     "execution_count": 63,
     "metadata": {},
     "output_type": "execute_result"
    }
   ],
   "source": [
    "data.mvar34.describe()"
   ]
  },
  {
   "cell_type": "code",
   "execution_count": 64,
   "metadata": {},
   "outputs": [
    {
     "data": {
      "text/plain": [
       "count     46986\n",
       "unique       11\n",
       "top           0\n",
       "freq      40222\n",
       "Name: mvar35, dtype: object"
      ]
     },
     "execution_count": 64,
     "metadata": {},
     "output_type": "execute_result"
    }
   ],
   "source": [
    "data.mvar35.describe()"
   ]
  },
  {
   "cell_type": "code",
   "execution_count": 65,
   "metadata": {},
   "outputs": [
    {
     "data": {
      "text/plain": [
       "count     77102\n",
       "unique       70\n",
       "top           3\n",
       "freq       9360\n",
       "Name: mvar36, dtype: object"
      ]
     },
     "execution_count": 65,
     "metadata": {},
     "output_type": "execute_result"
    }
   ],
   "source": [
    "data.mvar36.describe()"
   ]
  },
  {
   "cell_type": "code",
   "execution_count": 66,
   "metadata": {},
   "outputs": [
    {
     "data": {
      "text/plain": [
       "count     72294\n",
       "unique       55\n",
       "top           0\n",
       "freq      16277\n",
       "Name: mvar37, dtype: object"
      ]
     },
     "execution_count": 66,
     "metadata": {},
     "output_type": "execute_result"
    }
   ],
   "source": [
    "data.mvar37.describe()"
   ]
  },
  {
   "cell_type": "code",
   "execution_count": 67,
   "metadata": {},
   "outputs": [
    {
     "data": {
      "text/plain": [
       "count     79498\n",
       "unique       61\n",
       "top           2\n",
       "freq      12032\n",
       "Name: mvar38, dtype: object"
      ]
     },
     "execution_count": 67,
     "metadata": {},
     "output_type": "execute_result"
    }
   ],
   "source": [
    "data.mvar38.describe()"
   ]
  },
  {
   "cell_type": "code",
   "execution_count": 68,
   "metadata": {},
   "outputs": [
    {
     "data": {
      "text/plain": [
       "count     73960\n",
       "unique       15\n",
       "top           0\n",
       "freq      68827\n",
       "Name: mvar39, dtype: object"
      ]
     },
     "execution_count": 68,
     "metadata": {},
     "output_type": "execute_result"
    }
   ],
   "source": [
    "data.mvar39.describe()"
   ]
  },
  {
   "cell_type": "code",
   "execution_count": 69,
   "metadata": {},
   "outputs": [
    {
     "data": {
      "text/plain": [
       "count     17443\n",
       "unique    13623\n",
       "top         100\n",
       "freq       2291\n",
       "Name: mvar40, dtype: object"
      ]
     },
     "execution_count": 69,
     "metadata": {},
     "output_type": "execute_result"
    }
   ],
   "source": [
    "data.mvar40.describe()"
   ]
  },
  {
   "cell_type": "code",
   "execution_count": 70,
   "metadata": {},
   "outputs": [
    {
     "data": {
      "text/plain": [
       "count     25422\n",
       "unique    19477\n",
       "top         100\n",
       "freq        698\n",
       "Name: mvar41, dtype: object"
      ]
     },
     "execution_count": 70,
     "metadata": {},
     "output_type": "execute_result"
    }
   ],
   "source": [
    "data.mvar41.describe()"
   ]
  },
  {
   "cell_type": "code",
   "execution_count": 71,
   "metadata": {},
   "outputs": [
    {
     "data": {
      "text/plain": [
       "count     78099\n",
       "unique     1084\n",
       "top           0\n",
       "freq      24305\n",
       "Name: mvar42, dtype: object"
      ]
     },
     "execution_count": 71,
     "metadata": {},
     "output_type": "execute_result"
    }
   ],
   "source": [
    "data.mvar42.describe()"
   ]
  },
  {
   "cell_type": "code",
   "execution_count": 72,
   "metadata": {},
   "outputs": [
    {
     "data": {
      "text/plain": [
       "count     79182\n",
       "unique       59\n",
       "top           0\n",
       "freq       9973\n",
       "Name: mvar43, dtype: object"
      ]
     },
     "execution_count": 72,
     "metadata": {},
     "output_type": "execute_result"
    }
   ],
   "source": [
    "data.mvar43.describe()"
   ]
  },
  {
   "cell_type": "code",
   "execution_count": 73,
   "metadata": {},
   "outputs": [
    {
     "data": {
      "text/plain": [
       "count     35145\n",
       "unique        6\n",
       "top           0\n",
       "freq      32905\n",
       "Name: mvar45, dtype: object"
      ]
     },
     "execution_count": 73,
     "metadata": {},
     "output_type": "execute_result"
    }
   ],
   "source": [
    "data.mvar45.describe()"
   ]
  },
  {
   "cell_type": "code",
   "execution_count": 74,
   "metadata": {},
   "outputs": [
    {
     "data": {
      "text/plain": [
       "count     57211\n",
       "unique        8\n",
       "top           0\n",
       "freq      52381\n",
       "Name: mvar46, dtype: object"
      ]
     },
     "execution_count": 74,
     "metadata": {},
     "output_type": "execute_result"
    }
   ],
   "source": [
    "data.mvar46.describe()"
   ]
  },
  {
   "cell_type": "code",
   "execution_count": 75,
   "metadata": {},
   "outputs": [],
   "source": [
    "data['mvar26'].fillna(183, inplace=True)"
   ]
  },
  {
   "cell_type": "code",
   "execution_count": 76,
   "metadata": {},
   "outputs": [],
   "source": [
    "data['mvar27'].fillna(183, inplace=True)"
   ]
  },
  {
   "cell_type": "code",
   "execution_count": 77,
   "metadata": {},
   "outputs": [],
   "source": [
    "data['mvar28'].fillna(30386, inplace=True)"
   ]
  },
  {
   "cell_type": "code",
   "execution_count": 78,
   "metadata": {},
   "outputs": [],
   "source": [
    "data['mvar29'].fillna(3772, inplace=True)"
   ]
  },
  {
   "cell_type": "code",
   "execution_count": 79,
   "metadata": {},
   "outputs": [],
   "source": [
    "data['mvar30'].fillna(3711, inplace=True)"
   ]
  },
  {
   "cell_type": "code",
   "execution_count": 80,
   "metadata": {},
   "outputs": [],
   "source": [
    "data['mvar31'].fillna(3772, inplace=True)"
   ]
  },
  {
   "cell_type": "code",
   "execution_count": 81,
   "metadata": {},
   "outputs": [],
   "source": [
    "data['mvar32'].fillna(6, inplace=True)"
   ]
  },
  {
   "cell_type": "code",
   "execution_count": 82,
   "metadata": {},
   "outputs": [],
   "source": [
    "data['mvar34'].fillna(0, inplace=True)"
   ]
  },
  {
   "cell_type": "code",
   "execution_count": 83,
   "metadata": {},
   "outputs": [],
   "source": [
    "data['mvar35'].fillna(0, inplace=True)"
   ]
  },
  {
   "cell_type": "code",
   "execution_count": 84,
   "metadata": {},
   "outputs": [],
   "source": [
    "data['mvar36'].fillna(3, inplace=True)"
   ]
  },
  {
   "cell_type": "code",
   "execution_count": 85,
   "metadata": {},
   "outputs": [],
   "source": [
    "data['mvar37'].fillna(0, inplace=True)"
   ]
  },
  {
   "cell_type": "code",
   "execution_count": 86,
   "metadata": {},
   "outputs": [],
   "source": [
    "data['mvar38'].fillna(2, inplace=True)"
   ]
  },
  {
   "cell_type": "code",
   "execution_count": 87,
   "metadata": {},
   "outputs": [],
   "source": [
    "data['mvar39'].fillna(0, inplace=True)"
   ]
  },
  {
   "cell_type": "code",
   "execution_count": 88,
   "metadata": {},
   "outputs": [],
   "source": [
    "data['mvar40'].fillna(100, inplace=True)"
   ]
  },
  {
   "cell_type": "code",
   "execution_count": 89,
   "metadata": {},
   "outputs": [],
   "source": [
    "data['mvar41'].fillna(100, inplace=True)"
   ]
  },
  {
   "cell_type": "code",
   "execution_count": 90,
   "metadata": {},
   "outputs": [],
   "source": [
    "data['mvar42'].fillna(0, inplace=True)"
   ]
  },
  {
   "cell_type": "code",
   "execution_count": 91,
   "metadata": {},
   "outputs": [],
   "source": [
    "data['mvar43'].fillna(0, inplace=True)"
   ]
  },
  {
   "cell_type": "code",
   "execution_count": 92,
   "metadata": {},
   "outputs": [],
   "source": [
    "data['mvar45'].fillna(0, inplace=True)"
   ]
  },
  {
   "cell_type": "code",
   "execution_count": 93,
   "metadata": {},
   "outputs": [],
   "source": [
    "data['mvar46'].fillna(0, inplace=True)"
   ]
  },
  {
   "cell_type": "code",
   "execution_count": 94,
   "metadata": {},
   "outputs": [
    {
     "data": {
      "text/plain": [
       "application_key    0\n",
       "mvar1              0\n",
       "mvar2              0\n",
       "mvar3              0\n",
       "mvar4              0\n",
       "mvar5              0\n",
       "mvar6              0\n",
       "mvar7              0\n",
       "mvar8              0\n",
       "mvar9              0\n",
       "mvar10             0\n",
       "mvar11             0\n",
       "mvar12             0\n",
       "mvar13             0\n",
       "mvar14             0\n",
       "mvar15             0\n",
       "mvar16             0\n",
       "mvar17             0\n",
       "mvar18             0\n",
       "mvar19             0\n",
       "mvar20             0\n",
       "mvar21             0\n",
       "mvar22             0\n",
       "mvar23             0\n",
       "mvar24             0\n",
       "mvar25             0\n",
       "mvar26             0\n",
       "mvar27             0\n",
       "mvar28             0\n",
       "mvar29             0\n",
       "mvar30             0\n",
       "mvar31             0\n",
       "mvar32             0\n",
       "mvar33             0\n",
       "mvar34             0\n",
       "mvar35             0\n",
       "mvar36             0\n",
       "mvar37             0\n",
       "mvar38             0\n",
       "mvar39             0\n",
       "mvar40             0\n",
       "mvar41             0\n",
       "mvar42             0\n",
       "mvar43             0\n",
       "mvar44             0\n",
       "mvar45             0\n",
       "mvar46             0\n",
       "mvar47             0\n",
       "default_ind        0\n",
       "dtype: int64"
      ]
     },
     "execution_count": 94,
     "metadata": {},
     "output_type": "execute_result"
    }
   ],
   "source": [
    "data.isna().sum()"
   ]
  },
  {
   "cell_type": "code",
   "execution_count": 95,
   "metadata": {},
   "outputs": [
    {
     "data": {
      "text/html": [
       "<div>\n",
       "<style scoped>\n",
       "    .dataframe tbody tr th:only-of-type {\n",
       "        vertical-align: middle;\n",
       "    }\n",
       "\n",
       "    .dataframe tbody tr th {\n",
       "        vertical-align: top;\n",
       "    }\n",
       "\n",
       "    .dataframe thead th {\n",
       "        text-align: right;\n",
       "    }\n",
       "</style>\n",
       "<table border=\"1\" class=\"dataframe\">\n",
       "  <thead>\n",
       "    <tr style=\"text-align: right;\">\n",
       "      <th></th>\n",
       "      <th>application_key</th>\n",
       "      <th>mvar1</th>\n",
       "      <th>mvar2</th>\n",
       "      <th>mvar3</th>\n",
       "      <th>mvar4</th>\n",
       "      <th>mvar5</th>\n",
       "      <th>mvar6</th>\n",
       "      <th>mvar7</th>\n",
       "      <th>mvar8</th>\n",
       "      <th>mvar9</th>\n",
       "      <th>...</th>\n",
       "      <th>mvar39</th>\n",
       "      <th>mvar40</th>\n",
       "      <th>mvar41</th>\n",
       "      <th>mvar42</th>\n",
       "      <th>mvar43</th>\n",
       "      <th>mvar44</th>\n",
       "      <th>mvar45</th>\n",
       "      <th>mvar46</th>\n",
       "      <th>mvar47</th>\n",
       "      <th>default_ind</th>\n",
       "    </tr>\n",
       "  </thead>\n",
       "  <tbody>\n",
       "    <tr>\n",
       "      <th>0</th>\n",
       "      <td>230032</td>\n",
       "      <td>1696</td>\n",
       "      <td>1.6541</td>\n",
       "      <td>0.000</td>\n",
       "      <td>0.0</td>\n",
       "      <td>0.0</td>\n",
       "      <td>0</td>\n",
       "      <td>6015</td>\n",
       "      <td>322</td>\n",
       "      <td>40369</td>\n",
       "      <td>...</td>\n",
       "      <td>1</td>\n",
       "      <td>73.78</td>\n",
       "      <td>82.547</td>\n",
       "      <td>0.08696</td>\n",
       "      <td>10</td>\n",
       "      <td>0.63899</td>\n",
       "      <td>0</td>\n",
       "      <td>0</td>\n",
       "      <td>C</td>\n",
       "      <td>0</td>\n",
       "    </tr>\n",
       "    <tr>\n",
       "      <th>1</th>\n",
       "      <td>230033</td>\n",
       "      <td>1846</td>\n",
       "      <td>0.8095</td>\n",
       "      <td>0.000</td>\n",
       "      <td>0.0</td>\n",
       "      <td>0.0</td>\n",
       "      <td>102</td>\n",
       "      <td>7532</td>\n",
       "      <td>3171</td>\n",
       "      <td>18234</td>\n",
       "      <td>...</td>\n",
       "      <td>0</td>\n",
       "      <td>99.129</td>\n",
       "      <td>100</td>\n",
       "      <td>0</td>\n",
       "      <td>13</td>\n",
       "      <td>0.63836</td>\n",
       "      <td>0</td>\n",
       "      <td>0</td>\n",
       "      <td>L</td>\n",
       "      <td>1</td>\n",
       "    </tr>\n",
       "    <tr>\n",
       "      <th>2</th>\n",
       "      <td>230034</td>\n",
       "      <td>1745</td>\n",
       "      <td>0.4001</td>\n",
       "      <td>0.000</td>\n",
       "      <td>0.0</td>\n",
       "      <td>0.0</td>\n",
       "      <td>0</td>\n",
       "      <td>2536</td>\n",
       "      <td>0</td>\n",
       "      <td>297</td>\n",
       "      <td>...</td>\n",
       "      <td>0</td>\n",
       "      <td>100</td>\n",
       "      <td>29.29</td>\n",
       "      <td>0</td>\n",
       "      <td>1</td>\n",
       "      <td>1.00000</td>\n",
       "      <td>0</td>\n",
       "      <td>0</td>\n",
       "      <td>C</td>\n",
       "      <td>1</td>\n",
       "    </tr>\n",
       "    <tr>\n",
       "      <th>3</th>\n",
       "      <td>230035</td>\n",
       "      <td>1739</td>\n",
       "      <td>0.2193</td>\n",
       "      <td>0.000</td>\n",
       "      <td>0.0</td>\n",
       "      <td>0.0</td>\n",
       "      <td>1982</td>\n",
       "      <td>26440</td>\n",
       "      <td>4955</td>\n",
       "      <td>20316</td>\n",
       "      <td>...</td>\n",
       "      <td>0</td>\n",
       "      <td>96.272</td>\n",
       "      <td>100</td>\n",
       "      <td>0.15385</td>\n",
       "      <td>3</td>\n",
       "      <td>0.53241</td>\n",
       "      <td>0</td>\n",
       "      <td>0</td>\n",
       "      <td>L</td>\n",
       "      <td>0</td>\n",
       "    </tr>\n",
       "    <tr>\n",
       "      <th>4</th>\n",
       "      <td>230036</td>\n",
       "      <td>1787</td>\n",
       "      <td>0.0118</td>\n",
       "      <td>0.225</td>\n",
       "      <td>0.0</td>\n",
       "      <td>0.0</td>\n",
       "      <td>5451</td>\n",
       "      <td>5494</td>\n",
       "      <td>5494</td>\n",
       "      <td>7987</td>\n",
       "      <td>...</td>\n",
       "      <td>0</td>\n",
       "      <td>115.019</td>\n",
       "      <td>100</td>\n",
       "      <td>0</td>\n",
       "      <td>1</td>\n",
       "      <td>0.92665</td>\n",
       "      <td>0</td>\n",
       "      <td>0</td>\n",
       "      <td>L</td>\n",
       "      <td>0</td>\n",
       "    </tr>\n",
       "  </tbody>\n",
       "</table>\n",
       "<p>5 rows × 49 columns</p>\n",
       "</div>"
      ],
      "text/plain": [
       "   application_key mvar1   mvar2  mvar3  mvar4  mvar5 mvar6  mvar7 mvar8  \\\n",
       "0           230032  1696  1.6541  0.000    0.0    0.0     0   6015   322   \n",
       "1           230033  1846  0.8095  0.000    0.0    0.0   102   7532  3171   \n",
       "2           230034  1745  0.4001  0.000    0.0    0.0     0   2536     0   \n",
       "3           230035  1739  0.2193  0.000    0.0    0.0  1982  26440  4955   \n",
       "4           230036  1787  0.0118  0.225    0.0    0.0  5451   5494  5494   \n",
       "\n",
       "   mvar9     ...     mvar39   mvar40  mvar41   mvar42  mvar43   mvar44 mvar45  \\\n",
       "0  40369     ...          1    73.78  82.547  0.08696      10  0.63899      0   \n",
       "1  18234     ...          0   99.129     100        0      13  0.63836      0   \n",
       "2    297     ...          0      100   29.29        0       1  1.00000      0   \n",
       "3  20316     ...          0   96.272     100  0.15385       3  0.53241      0   \n",
       "4   7987     ...          0  115.019     100        0       1  0.92665      0   \n",
       "\n",
       "  mvar46 mvar47 default_ind  \n",
       "0      0      C           0  \n",
       "1      0      L           1  \n",
       "2      0      C           1  \n",
       "3      0      L           0  \n",
       "4      0      L           0  \n",
       "\n",
       "[5 rows x 49 columns]"
      ]
     },
     "execution_count": 95,
     "metadata": {},
     "output_type": "execute_result"
    }
   ],
   "source": [
    "data.head()"
   ]
  },
  {
   "cell_type": "code",
   "execution_count": 96,
   "metadata": {},
   "outputs": [],
   "source": [
    "data2 = pd.read_csv(\"C:/Users/LENOVO/Desktop/AnalyzeThis/Training_dataset_original.csv\")"
   ]
  },
  {
   "cell_type": "code",
   "execution_count": 97,
   "metadata": {},
   "outputs": [],
   "source": [
    "data2=data2.dropna()"
   ]
  },
  {
   "cell_type": "code",
   "execution_count": 98,
   "metadata": {},
   "outputs": [
    {
     "data": {
      "text/plain": [
       "(33587, 49)"
      ]
     },
     "execution_count": 98,
     "metadata": {},
     "output_type": "execute_result"
    }
   ],
   "source": [
    "data2.shape"
   ]
  },
  {
   "cell_type": "markdown",
   "metadata": {},
   "source": [
    "now we have data2 and data. they both do not have any missing value but their size are different\n",
    "do these things too\n",
    "1) use function (imputer) to replace na values\n",
    "2) try replace the unknown values with median too\n",
    "3) use threshold values to increASE efficincy\n",
    "4) use logistic regression\n",
    "5) try to fill the missing values using a model...refer to "
   ]
  },
  {
   "cell_type": "code",
   "execution_count": null,
   "metadata": {},
   "outputs": [],
   "source": []
  }
 ],
 "metadata": {
  "kernelspec": {
   "display_name": "Python 2",
   "language": "python",
   "name": "python2"
  }
 },
 "nbformat": 4,
 "nbformat_minor": 2
}
